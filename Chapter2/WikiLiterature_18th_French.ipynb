{
 "cells": [
  {
   "cell_type": "markdown",
   "metadata": {
    "colab_type": "text",
    "id": "view-in-github"
   },
   "source": [
    "<a href=\"https://colab.research.google.com/github/temporal-communities/wiki-literature/blob/main/WikiLiterature.ipynb\" target=\"_parent\"><img src=\"https://colab.research.google.com/assets/colab-badge.svg\" alt=\"Open In Colab\"/></a>"
   ]
  },
  {
   "cell_type": "markdown",
   "metadata": {
    "id": "z13fgNtjQmpI"
   },
   "source": [
    "# 🛠️ Setup – Run once"
   ]
  },
  {
   "cell_type": "code",
   "execution_count": 1,
   "metadata": {
    "cellView": "form",
    "id": "6sud4v-0YF9n"
   },
   "outputs": [
    {
     "name": "stderr",
     "output_type": "stream",
     "text": [
      "Der Befehl \"rm\" ist entweder falsch geschrieben oder\n",
      "konnte nicht gefunden werden.\n",
      "Ein Unterverzeichnis oder eine Datei mit dem Namen \"data\" existiert bereits.\n",
      "Ein Unterverzeichnis oder eine Datei mit dem Namen \"export\" existiert bereits.\n"
     ]
    },
    {
     "name": "stderr",
     "output_type": "stream",
     "text": [
      "Ein Unterverzeichnis oder eine Datei mit dem Namen \"plots\" existiert bereits.\n",
      "fatal: destination path 'wiki-literature' already exists and is not an empty directory.\n",
      "Der Befehl \"mv\" ist entweder falsch geschrieben oder\n",
      "konnte nicht gefunden werden.\n",
      "Der Befehl \"rm\" ist entweder falsch geschrieben oder\n",
      "konnte nicht gefunden werden.\n"
     ]
    }
   ],
   "source": [
    "# @title Code download\n",
    "# @markdown This block initialises the notebook.\n",
    "!rm -r sample_data\n",
    "!mkdir data\n",
    "!mkdir export\n",
    "!mkdir plots\n",
    "!git clone https://github.com/temporal-communities/wiki-literature\n",
    "!mv wiki-literature/* .\n",
    "!rm -r wiki-literature\n"
   ]
  },
  {
   "cell_type": "code",
   "execution_count": 2,
   "metadata": {
    "cellView": "form",
    "id": "LAB_TFHIBRMS"
   },
   "outputs": [
    {
     "name": "stdout",
     "output_type": "stream",
     "text": [
      "Collecting kaleido==0.2.1 (from -r requirements.txt (line 1))\n",
      "  Downloading kaleido-0.2.1-py2.py3-none-win_amd64.whl (65.9 MB)\n",
      "     ---------------------------------------- 0.0/65.9 MB ? eta -:--:--\n",
      "     ---------------------------------------- 0.1/65.9 MB 2.2 MB/s eta 0:00:30\n",
      "     - -------------------------------------- 2.1/65.9 MB 19.4 MB/s eta 0:00:04\n",
      "     --- ------------------------------------ 5.2/65.9 MB 33.3 MB/s eta 0:00:02\n",
      "     ----- ---------------------------------- 9.4/65.9 MB 46.3 MB/s eta 0:00:02\n",
      "     ------- ------------------------------- 11.9/65.9 MB 65.2 MB/s eta 0:00:01\n",
      "     -------- ------------------------------ 15.1/65.9 MB 65.6 MB/s eta 0:00:01\n",
      "     ---------- ---------------------------- 17.5/65.9 MB 59.5 MB/s eta 0:00:01\n",
      "     ----------- --------------------------- 19.2/65.9 MB 54.7 MB/s eta 0:00:01\n",
      "     ------------- ------------------------- 22.1/65.9 MB 54.7 MB/s eta 0:00:01\n",
      "     -------------- ------------------------ 24.2/65.9 MB 50.4 MB/s eta 0:00:01\n",
      "     --------------- ----------------------- 26.4/65.9 MB 46.9 MB/s eta 0:00:01\n",
      "     ---------------- ---------------------- 28.3/65.9 MB 43.7 MB/s eta 0:00:01\n",
      "     ------------------ -------------------- 30.5/65.9 MB 43.7 MB/s eta 0:00:01\n",
      "     ------------------- ------------------- 33.5/65.9 MB 40.9 MB/s eta 0:00:01\n",
      "     --------------------- ----------------- 36.3/65.9 MB 46.7 MB/s eta 0:00:01\n",
      "     ----------------------- --------------- 40.2/65.9 MB 59.8 MB/s eta 0:00:01\n",
      "     ------------------------- ------------- 43.3/65.9 MB 59.5 MB/s eta 0:00:01\n",
      "     --------------------------- ----------- 46.6/65.9 MB 59.8 MB/s eta 0:00:01\n",
      "     ----------------------------- --------- 49.3/65.9 MB 54.7 MB/s eta 0:00:01\n",
      "     ------------------------------ -------- 51.8/65.9 MB 54.7 MB/s eta 0:00:01\n",
      "     ------------------------------- ------- 53.7/65.9 MB 54.7 MB/s eta 0:00:01\n",
      "     --------------------------------- ----- 56.8/65.9 MB 50.4 MB/s eta 0:00:01\n",
      "     ----------------------------------- --- 59.8/65.9 MB 50.4 MB/s eta 0:00:01\n",
      "     ------------------------------------ -- 62.3/65.9 MB 46.7 MB/s eta 0:00:01\n",
      "     --------------------------------------  65.0/65.9 MB 54.4 MB/s eta 0:00:01\n",
      "     --------------------------------------  65.9/65.9 MB 50.4 MB/s eta 0:00:01\n",
      "     --------------------------------------  65.9/65.9 MB 50.4 MB/s eta 0:00:01\n",
      "     --------------------------------------- 65.9/65.9 MB 31.2 MB/s eta 0:00:00\n",
      "Collecting plotly-express==0.4.1 (from -r requirements.txt (line 2))\n",
      "  Downloading plotly_express-0.4.1-py2.py3-none-any.whl (2.9 kB)\n",
      "Collecting plotly==5.14.1 (from -r requirements.txt (line 3))\n",
      "  Downloading plotly-5.14.1-py2.py3-none-any.whl (15.3 MB)\n",
      "     ---------------------------------------- 0.0/15.3 MB ? eta -:--:--\n",
      "     -- ------------------------------------- 1.0/15.3 MB 20.5 MB/s eta 0:00:01\n",
      "     ---------- ----------------------------- 4.0/15.3 MB 36.0 MB/s eta 0:00:01\n",
      "     ----------------- ---------------------- 6.6/15.3 MB 41.7 MB/s eta 0:00:01\n",
      "     -------------------- ------------------- 7.8/15.3 MB 38.4 MB/s eta 0:00:01\n",
      "     -------------------------- ------------ 10.3/15.3 MB 40.9 MB/s eta 0:00:01\n",
      "     -------------------------------- ------ 12.6/15.3 MB 43.5 MB/s eta 0:00:01\n",
      "     --------------------------------------  15.3/15.3 MB 43.5 MB/s eta 0:00:01\n",
      "     --------------------------------------- 15.3/15.3 MB 38.4 MB/s eta 0:00:00\n",
      "Collecting polars==0.19.7 (from -r requirements.txt (line 4))\n",
      "  Downloading polars-0.19.7-cp38-abi3-win_amd64.whl.metadata (15 kB)\n",
      "Collecting pywikibot==8.1.2 (from -r requirements.txt (line 5))\n",
      "  Downloading pywikibot-8.1.2-py3-none-any.whl (701 kB)\n",
      "     ---------------------------------------- 0.0/701.0 kB ? eta -:--:--\n",
      "     ------------------------------------- 701.0/701.0 kB 14.7 MB/s eta 0:00:00\n",
      "Collecting requests==2.31.0 (from -r requirements.txt (line 6))\n",
      "  Downloading requests-2.31.0-py3-none-any.whl.metadata (4.6 kB)\n",
      "Collecting tqdm==4.65.0 (from -r requirements.txt (line 7))\n",
      "  Downloading tqdm-4.65.0-py3-none-any.whl (77 kB)\n",
      "     ---------------------------------------- 0.0/77.1 kB ? eta -:--:--\n",
      "     ---------------------------------------- 77.1/77.1 kB 4.2 MB/s eta 0:00:00\n",
      "Collecting XlsxWriter==3.1.6 (from -r requirements.txt (line 8))\n",
      "  Downloading XlsxWriter-3.1.6-py3-none-any.whl.metadata (2.6 kB)\n",
      "Requirement already satisfied: pandas>=0.20.0 in c:\\users\\administrator\\pythonenv\\lib\\site-packages (from plotly-express==0.4.1->-r requirements.txt (line 2)) (1.5.1)\n",
      "Requirement already satisfied: statsmodels>=0.9.0 in c:\\users\\administrator\\pythonenv\\lib\\site-packages (from plotly-express==0.4.1->-r requirements.txt (line 2)) (0.13.5)\n",
      "Requirement already satisfied: scipy>=0.18 in c:\\users\\administrator\\pythonenv\\lib\\site-packages (from plotly-express==0.4.1->-r requirements.txt (line 2)) (1.9.3)\n",
      "Requirement already satisfied: patsy>=0.5 in c:\\users\\administrator\\pythonenv\\lib\\site-packages (from plotly-express==0.4.1->-r requirements.txt (line 2)) (0.5.3)\n",
      "Requirement already satisfied: numpy>=1.11 in c:\\users\\administrator\\pythonenv\\lib\\site-packages (from plotly-express==0.4.1->-r requirements.txt (line 2)) (1.23.4)\n",
      "Requirement already satisfied: tenacity>=6.2.0 in c:\\users\\administrator\\pythonenv\\lib\\site-packages (from plotly==5.14.1->-r requirements.txt (line 3)) (8.1.0)\n",
      "Requirement already satisfied: packaging in c:\\users\\administrator\\pythonenv\\lib\\site-packages (from plotly==5.14.1->-r requirements.txt (line 3)) (21.3)\n",
      "Requirement already satisfied: mwparserfromhell>=0.5.2 in c:\\users\\administrator\\pythonenv\\lib\\site-packages (from pywikibot==8.1.2->-r requirements.txt (line 5)) (0.6.5)\n",
      "Requirement already satisfied: setuptools>=40.8.0 in c:\\users\\administrator\\pythonenv\\lib\\site-packages (from pywikibot==8.1.2->-r requirements.txt (line 5)) (41.2.0)\n",
      "Requirement already satisfied: charset-normalizer<4,>=2 in c:\\users\\administrator\\pythonenv\\lib\\site-packages (from requests==2.31.0->-r requirements.txt (line 6)) (2.1.1)\n",
      "Requirement already satisfied: idna<4,>=2.5 in c:\\users\\administrator\\pythonenv\\lib\\site-packages (from requests==2.31.0->-r requirements.txt (line 6)) (3.4)\n",
      "Requirement already satisfied: urllib3<3,>=1.21.1 in c:\\users\\administrator\\pythonenv\\lib\\site-packages (from requests==2.31.0->-r requirements.txt (line 6)) (1.26.13)\n",
      "Requirement already satisfied: certifi>=2017.4.17 in c:\\users\\administrator\\pythonenv\\lib\\site-packages (from requests==2.31.0->-r requirements.txt (line 6)) (2022.9.24)\n",
      "Requirement already satisfied: colorama in c:\\users\\administrator\\pythonenv\\lib\\site-packages (from tqdm==4.65.0->-r requirements.txt (line 7)) (0.4.6)\n",
      "Requirement already satisfied: python-dateutil>=2.8.1 in c:\\users\\administrator\\pythonenv\\lib\\site-packages (from pandas>=0.20.0->plotly-express==0.4.1->-r requirements.txt (line 2)) (2.8.2)\n",
      "Requirement already satisfied: pytz>=2020.1 in c:\\users\\administrator\\pythonenv\\lib\\site-packages (from pandas>=0.20.0->plotly-express==0.4.1->-r requirements.txt (line 2)) (2022.6)\n",
      "Requirement already satisfied: six in c:\\users\\administrator\\pythonenv\\lib\\site-packages (from patsy>=0.5->plotly-express==0.4.1->-r requirements.txt (line 2)) (1.16.0)\n",
      "Requirement already satisfied: pyparsing!=3.0.5,>=2.0.2 in c:\\users\\administrator\\pythonenv\\lib\\site-packages (from packaging->plotly==5.14.1->-r requirements.txt (line 3)) (3.0.9)\n",
      "Downloading polars-0.19.7-cp38-abi3-win_amd64.whl (24.0 MB)\n",
      "   ---------------------------------------- 0.0/24.0 MB ? eta -:--:--\n",
      "   --- ------------------------------------ 2.1/24.0 MB 68.7 MB/s eta 0:00:01\n",
      "   ------- -------------------------------- 4.7/24.0 MB 42.7 MB/s eta 0:00:01\n",
      "   ------------- -------------------------- 7.8/24.0 MB 50.1 MB/s eta 0:00:01\n",
      "   --------------- ------------------------ 9.6/24.0 MB 47.1 MB/s eta 0:00:01\n",
      "   -------------------- ------------------- 12.4/24.0 MB 50.1 MB/s eta 0:00:01\n",
      "   ------------------------ --------------- 14.7/24.0 MB 46.9 MB/s eta 0:00:01\n",
      "   --------------------------- ------------ 16.6/24.0 MB 43.7 MB/s eta 0:00:01\n",
      "   ------------------------------- -------- 19.0/24.0 MB 43.5 MB/s eta 0:00:01\n",
      "   ----------------------------------- ---- 21.3/24.0 MB 43.5 MB/s eta 0:00:01\n",
      "   ------------------------------------- -- 22.3/24.0 MB 43.7 MB/s eta 0:00:01\n",
      "   ---------------------------------------  23.8/24.0 MB 38.6 MB/s eta 0:00:01\n",
      "   ---------------------------------------- 24.0/24.0 MB 32.8 MB/s eta 0:00:00\n",
      "Downloading requests-2.31.0-py3-none-any.whl (62 kB)\n",
      "   ---------------------------------------- 0.0/62.6 kB ? eta -:--:--\n",
      "   ---------------------------------------- 62.6/62.6 kB 3.5 MB/s eta 0:00:00\n",
      "Downloading XlsxWriter-3.1.6-py3-none-any.whl (154 kB)\n",
      "   ---------------------------------------- 0.0/154.3 kB ? eta -:--:--\n",
      "   ---------------------------------------- 154.3/154.3 kB 9.6 MB/s eta 0:00:00\n",
      "Installing collected packages: kaleido, XlsxWriter, tqdm, requests, polars, pywikibot, plotly, plotly-express\n",
      "  Attempting uninstall: tqdm\n",
      "    Found existing installation: tqdm 4.64.1\n",
      "    Uninstalling tqdm-4.64.1:\n",
      "      Successfully uninstalled tqdm-4.64.1\n",
      "  Attempting uninstall: requests\n",
      "    Found existing installation: requests 2.28.1\n",
      "    Uninstalling requests-2.28.1:\n",
      "      Successfully uninstalled requests-2.28.1\n",
      "  Attempting uninstall: polars\n",
      "    Found existing installation: polars 0.19.8\n",
      "    Uninstalling polars-0.19.8:\n",
      "      Successfully uninstalled polars-0.19.8\n",
      "  Attempting uninstall: pywikibot\n",
      "    Found existing installation: pywikibot 8.4.0\n",
      "    Uninstalling pywikibot-8.4.0:\n",
      "      Successfully uninstalled pywikibot-8.4.0\n",
      "  Attempting uninstall: plotly\n",
      "    Found existing installation: plotly 5.11.0\n",
      "    Uninstalling plotly-5.11.0:\n",
      "      Successfully uninstalled plotly-5.11.0\n",
      "Successfully installed XlsxWriter-3.1.6 kaleido-0.2.1 plotly-5.14.1 plotly-express-0.4.1 polars-0.19.7 pywikibot-8.1.2 requests-2.31.0 tqdm-4.65.0\n"
     ]
    },
    {
     "name": "stderr",
     "output_type": "stream",
     "text": [
      "WARNING: There was an error checking the latest version of pip.\n"
     ]
    }
   ],
   "source": [
    "# @title Package installation\n",
    "# @markdown This block installs the required packages.\n",
    "!pip install -r requirements.txt"
   ]
  },
  {
   "cell_type": "code",
   "execution_count": 3,
   "metadata": {
    "cellView": "form",
    "id": "fe4WF7iXA85V"
   },
   "outputs": [
    {
     "ename": "TypeError",
     "evalue": "'type' object is not subscriptable",
     "output_type": "error",
     "traceback": [
      "\u001b[1;31m---------------------------------------------------------------------------\u001b[0m",
      "\u001b[1;31mTypeError\u001b[0m                                 Traceback (most recent call last)",
      "\u001b[1;32mc:\\Users\\Administrator\\Documents\\GitHub\\wiki-literature\\WikiLiterature.ipynb Cell 5\u001b[0m line \u001b[0;36m3\n\u001b[0;32m      <a href='vscode-notebook-cell:/c%3A/Users/Administrator/Documents/GitHub/wiki-literature/WikiLiterature.ipynb#W4sZmlsZQ%3D%3D?line=0'>1</a>\u001b[0m \u001b[39m# @title Package imports\u001b[39;00m\n\u001b[0;32m      <a href='vscode-notebook-cell:/c%3A/Users/Administrator/Documents/GitHub/wiki-literature/WikiLiterature.ipynb#W4sZmlsZQ%3D%3D?line=1'>2</a>\u001b[0m \u001b[39m# @markdown This block imports the necessary packages.\u001b[39;00m\n\u001b[1;32m----> <a href='vscode-notebook-cell:/c%3A/Users/Administrator/Documents/GitHub/wiki-literature/WikiLiterature.ipynb#W4sZmlsZQ%3D%3D?line=2'>3</a>\u001b[0m \u001b[39mfrom\u001b[39;00m \u001b[39mwikilit\u001b[39;00m \u001b[39mimport\u001b[39;00m wikilit\n\u001b[0;32m      <a href='vscode-notebook-cell:/c%3A/Users/Administrator/Documents/GitHub/wiki-literature/WikiLiterature.ipynb#W4sZmlsZQ%3D%3D?line=3'>4</a>\u001b[0m \u001b[39mimport\u001b[39;00m \u001b[39mpolars\u001b[39;00m \u001b[39mas\u001b[39;00m \u001b[39mpl\u001b[39;00m\n\u001b[0;32m      <a href='vscode-notebook-cell:/c%3A/Users/Administrator/Documents/GitHub/wiki-literature/WikiLiterature.ipynb#W4sZmlsZQ%3D%3D?line=4'>5</a>\u001b[0m \u001b[39mimport\u001b[39;00m \u001b[39mplotly\u001b[39;00m\u001b[39m.\u001b[39;00m\u001b[39mexpress\u001b[39;00m \u001b[39mas\u001b[39;00m \u001b[39mpx\u001b[39;00m\n",
      "File \u001b[1;32mc:\\Users\\Administrator\\Documents\\GitHub\\wiki-literature\\wikilit.py:79\u001b[0m\n\u001b[0;32m     74\u001b[0m     pageviews_sum \u001b[39m=\u001b[39m \u001b[39msum\u001b[39m(\u001b[39mfilter\u001b[39m(\u001b[39mNone\u001b[39;00m, [item[\u001b[39m\"\u001b[39m\u001b[39mviews\u001b[39m\u001b[39m\"\u001b[39m] \u001b[39mfor\u001b[39;00m item \u001b[39min\u001b[39;00m data[\u001b[39m\"\u001b[39m\u001b[39mitems\u001b[39m\u001b[39m\"\u001b[39m]]))\n\u001b[0;32m     76\u001b[0m     \u001b[39mreturn\u001b[39;00m pageviews_sum\n\u001b[1;32m---> 79\u001b[0m \u001b[39mdef\u001b[39;00m \u001b[39mcollect_page_stats\u001b[39m(cases: \u001b[39mdict\u001b[39;49m[\u001b[39mstr\u001b[39;49m, pywikibot\u001b[39m.\u001b[39;49mPage]):\n\u001b[0;32m     80\u001b[0m     \u001b[39m\"\"\"\u001b[39;00m\n\u001b[0;32m     81\u001b[0m \u001b[39m    Collect page stats for a given list of pages.\u001b[39;00m\n\u001b[0;32m     82\u001b[0m \u001b[39m    \"\"\"\u001b[39;00m\n\u001b[0;32m     83\u001b[0m     dicts \u001b[39m=\u001b[39m []\n",
      "\u001b[1;31mTypeError\u001b[0m: 'type' object is not subscriptable"
     ]
    }
   ],
   "source": [
    "# @title Package imports\n",
    "# @markdown This block imports the necessary packages.\n",
    "from wikilit import wikilit\n",
    "import polars as pl\n",
    "import plotly.express as px\n",
    "# Colab files handling\n",
    "from google.colab import files\n",
    "import os"
   ]
  },
  {
   "cell_type": "markdown",
   "metadata": {
    "id": "_rQRxeVN8QPW"
   },
   "source": [
    "# 📚 Selection Method\n",
    "\n",
    "This notebook supports multiple selection methods that determine the way the list of articles is compiled.\n",
    "\n",
    "__Note:__ When parsing page names, formats with spaces (`Charlotte Brontë`) and underscores (`Charlotte_Brontë`) are both supported."
   ]
  },
  {
   "cell_type": "markdown",
   "metadata": {
    "id": "UEHzdPsZF48L"
   },
   "source": [
    "## Article’s language links (`langlinks`)\n",
    "This method compiles all interlanguage links of a certain article, i.e. versions of the article on other editions of the site. The `selection` should be an article title.\n",
    "\n",
    "Examples: `Charlotte Brontë`, `Virginia Wolff`, `César Aira`, `Herta Müller`, `Elfriede Jelinek`, `Christa Wolf`, `Nikos Kazantzakis`."
   ]
  },
  {
   "cell_type": "code",
   "execution_count": null,
   "metadata": {
    "cellView": "form",
    "id": "8dmQxccxRhYZ"
   },
   "outputs": [],
   "source": [
    "selection_method = \"langlinks\"\n",
    "article_title = \"Jacques-Henri Bernardin de Saint-Pierre\" # @param [\"Jacques-Henri Bernardin de Saint-Pierre\", Charlotte Brontë\", \"Virginia Wolff\", \"César Aira\", \"Herta Müller\", \"Elfriede Jelinek\", \"Christa Wolf\", \"Nikos Kazantzakis\"] {allow-input: true}\n",
    "selection = article_title\n",
    "site = \"wikipedia\" # @param [\"wikipedia\"] {allow-input: true}\n",
    "lang = \"en\" # @param [\"en\", \"de\", \"fr\", \"es\", \"ja\", \"ru\", \"pt\", \"zh\", \"it\", \"ar\"] {allow-input: true}"
   ]
  },
  {
   "cell_type": "markdown",
   "metadata": {
    "id": "WBN4LRERF9zC"
   },
   "source": [
    "## Articles of a category (`category`)\n",
    "This method selects all articles in a MediaWiki category. The `selection` should be a category title.\n",
    "\n",
    "Examples: `19th-century English women writers`, `Chinese women novelists`, `North Korean novelists`."
   ]
  },
  {
   "cell_type": "code",
   "execution_count": null,
   "metadata": {
    "cellView": "form",
    "id": "SyMhfDeM8Js8"
   },
   "outputs": [],
   "source": [
    "selection_method = \"category\"\n",
    "category_title = \"18th-century French novels\" # @param [\"18th-century French novels\", 19th-century English women writers\", \"North Korean novelists\", \"Chinese women novelists\", \"South Korean women novelists\", \"Brazilian LGBT novelists\"] {allow-input: true}\n",
    "selection = category_title\n",
    "site = \"wikipedia\" # @param [\"wikipedia\"] {allow-input: true}\n",
    "lang = \"en\" # @param [\"en\", \"de\", \"fr\", \"es\", \"ja\", \"ru\", \"pt\", \"zh\", \"it\", \"ar\"] {allow-input: true}"
   ]
  },
  {
   "cell_type": "markdown",
   "metadata": {
    "id": "UQJ18-vJGFmw"
   },
   "source": [
    "## Articles from a file (`file`)\n",
    "This method reads article titles from a tab-separated values (TSV) file you supply.\n",
    "\n",
    "The resulting dataframe retains all columns of the supplied file and includes the page stats as additional columns. This allows you to enrich existing datasets.\n",
    "\n",
    "This method is especially useful when combined with output from the [Wikidata Query Service](https://query.wikidata.org/).\n",
    "\n",
    "`article_title_column` determines which column will be used as the article title."
   ]
  },
  {
   "cell_type": "code",
   "execution_count": null,
   "metadata": {
    "cellView": "form",
    "id": "XTvMNZ_l8ulS"
   },
   "outputs": [
    {
     "ename": "NameError",
     "evalue": "name 'files' is not defined",
     "output_type": "error",
     "traceback": [
      "\u001b[1;31m---------------------------------------------------------------------------\u001b[0m",
      "\u001b[1;31mNameError\u001b[0m                                 Traceback (most recent call last)",
      "\u001b[1;32m<ipython-input-9-472ebcc0652b>\u001b[0m in \u001b[0;36m<module>\u001b[1;34m\u001b[0m\n\u001b[0;32m      5\u001b[0m \u001b[1;33m\u001b[0m\u001b[0m\n\u001b[0;32m      6\u001b[0m \u001b[1;31m# Upload file\u001b[0m\u001b[1;33m\u001b[0m\u001b[1;33m\u001b[0m\u001b[1;33m\u001b[0m\u001b[0m\n\u001b[1;32m----> 7\u001b[1;33m \u001b[0muploaded\u001b[0m \u001b[1;33m=\u001b[0m \u001b[0mfiles\u001b[0m\u001b[1;33m.\u001b[0m\u001b[0mupload\u001b[0m\u001b[1;33m(\u001b[0m\u001b[1;33m)\u001b[0m\u001b[1;33m\u001b[0m\u001b[1;33m\u001b[0m\u001b[0m\n\u001b[0m\u001b[0;32m      8\u001b[0m \u001b[0mfile_list\u001b[0m \u001b[1;33m=\u001b[0m \u001b[0mlist\u001b[0m\u001b[1;33m(\u001b[0m\u001b[0muploaded\u001b[0m\u001b[1;33m.\u001b[0m\u001b[0mkeys\u001b[0m\u001b[1;33m(\u001b[0m\u001b[1;33m)\u001b[0m\u001b[1;33m)\u001b[0m\u001b[1;33m\u001b[0m\u001b[1;33m\u001b[0m\u001b[0m\n\u001b[0;32m      9\u001b[0m \u001b[1;33m\u001b[0m\u001b[0m\n",
      "\u001b[1;31mNameError\u001b[0m: name 'files' is not defined"
     ]
    }
   ],
   "source": [
    "selection_method = \"file\"\n",
    "article_title_column = \"desc\"  # @param {type:\"string\"}\n",
    "site = \"wikipedia\"  # @param [\"wikipedia\"] {allow-input: true}\n",
    "lang = \"en\" # @param [\"en\", \"de\", \"fr\", \"es\", \"ja\", \"ru\", \"pt\", \"zh\", \"it\", \"ar\"] {allow-input: true}\n",
    "\n",
    "# Upload file\n",
    "uploaded = files.upload()\n",
    "file_list = list(uploaded.keys())\n",
    "\n",
    "# Check file\n",
    "if len(file_list) > 1:\n",
    "    for file in file_list:\n",
    "        os.remove(file)\n",
    "    raise ValueError(\"Please only upload one file.\")\n",
    "\n",
    "filename = file_list[0]\n",
    "if not filename.endswith(\".tsv\"):\n",
    "    os.remove(filename)\n",
    "    raise ValueError(\"File must be TSV.\")\n",
    "\n",
    "# Move file to data/ directory\n",
    "dest = \"data/input.tsv\"\n",
    "os.rename(filename, dest)\n",
    "print(f\"File saved as {dest}\")\n",
    "selection = dest"
   ]
  },
  {
   "cell_type": "markdown",
   "metadata": {
    "id": "J7ao2L7BCzrX"
   },
   "source": [
    "# 🛰️ Data Retrieval\n",
    "\n",
    "This section retrieves the data from the pages you selected above.\n",
    "\n",
    "## Columns\n",
    "- `length`: Length of the article in bytes\n",
    "- `n_contributors`: Number of contributors\n",
    "- `n_revisions`: Number of revisions\n",
    "- `n_extlinks`: Number of external links\n",
    "- `n_langlinks`: Number of interlanguage links\n",
    "- `n_links`: Number of internal links\n",
    "- `n_linkshere`: Number of pages linking to this page\n",
    "- `n_categories`: Number of categories the page is in\n",
    "- `pageviews_365d`: Number of pageviews by humans in the last 365 days\n",
    "- `first_revision`: Date of the first revision (i.e. creation date)\n",
    "\n",
    "### Metadata columns\n",
    "- `selection_method`: The method used to select the articles\n",
    "- `selection`: The selection used to select the articles\n",
    "- `selection_case`: The name of the case within the selection\n",
    "\n",
    "The data is stored in a [Polars](https://pola.rs/) dataframe."
   ]
  },
  {
   "cell_type": "code",
   "execution_count": null,
   "metadata": {
    "cellView": "form",
    "id": "WXeOvWi3A0je"
   },
   "outputs": [
    {
     "name": "stdout",
     "output_type": "stream",
     "text": [
      "Retrieving data using selection_method='file' and selection='18th-century French novels' from en.wikipedia\n"
     ]
    },
    {
     "ename": "NameError",
     "evalue": "name 'wikilit' is not defined",
     "output_type": "error",
     "traceback": [
      "\u001b[1;31m---------------------------------------------------------------------------\u001b[0m",
      "\u001b[1;31mNameError\u001b[0m                                 Traceback (most recent call last)",
      "\u001b[1;32m<ipython-input-10-65063d767185>\u001b[0m in \u001b[0;36m<module>\u001b[1;34m\u001b[0m\n\u001b[0;32m      7\u001b[0m     \u001b[0marticle_title_column\u001b[0m \u001b[1;33m=\u001b[0m \u001b[1;32mNone\u001b[0m\u001b[1;33m\u001b[0m\u001b[1;33m\u001b[0m\u001b[0m\n\u001b[0;32m      8\u001b[0m \u001b[1;33m\u001b[0m\u001b[0m\n\u001b[1;32m----> 9\u001b[1;33m data = wikilit(\n\u001b[0m\u001b[0;32m     10\u001b[0m   \u001b[0mselection_method\u001b[0m\u001b[1;33m=\u001b[0m\u001b[0mselection_method\u001b[0m\u001b[1;33m,\u001b[0m\u001b[1;33m\u001b[0m\u001b[1;33m\u001b[0m\u001b[0m\n\u001b[0;32m     11\u001b[0m   \u001b[0mselection\u001b[0m\u001b[1;33m=\u001b[0m\u001b[0mselection\u001b[0m\u001b[1;33m,\u001b[0m\u001b[1;33m\u001b[0m\u001b[1;33m\u001b[0m\u001b[0m\n",
      "\u001b[1;31mNameError\u001b[0m: name 'wikilit' is not defined"
     ]
    }
   ],
   "source": [
    "# @title Fetch\n",
    "print(\n",
    "    f\"Retrieving data using selection_method='{selection_method}' and selection='{selection}' from {lang}.{site}\"\n",
    ")\n",
    "\n",
    "if \"article_title_column\" not in locals():\n",
    "    article_title_column = None\n",
    "\n",
    "data = wikilit(\n",
    "  selection_method=selection_method,\n",
    "  selection=selection,\n",
    "  lang=lang,\n",
    "  site=site,\n",
    "  article_title_column=article_title_column\n",
    ")\n",
    "\n",
    "data.write_csv(\"data/output.tsv\", separator=\"\\t\")\n",
    "print(\"Wrote data to data/output.tsv\")\n",
    "data.to_pandas()\n"
   ]
  },
  {
   "cell_type": "code",
   "execution_count": null,
   "metadata": {
    "cellView": "form",
    "id": "g-22c8iMnfpI"
   },
   "outputs": [
    {
     "ename": "NameError",
     "evalue": "name 'data' is not defined",
     "output_type": "error",
     "traceback": [
      "\u001b[1;31m---------------------------------------------------------------------------\u001b[0m",
      "\u001b[1;31mNameError\u001b[0m                                 Traceback (most recent call last)",
      "\u001b[1;32m<ipython-input-1-c3c06ec9f3de>\u001b[0m in \u001b[0;36m<module>\u001b[1;34m\u001b[0m\n\u001b[0;32m     12\u001b[0m \u001b[1;32melif\u001b[0m \u001b[0mformat\u001b[0m \u001b[1;33m==\u001b[0m \u001b[1;34m\"Excel\"\u001b[0m\u001b[1;33m:\u001b[0m\u001b[1;33m\u001b[0m\u001b[1;33m\u001b[0m\u001b[0m\n\u001b[0;32m     13\u001b[0m     \u001b[0moutput_file\u001b[0m \u001b[1;33m+=\u001b[0m \u001b[1;34m\".xlsx\"\u001b[0m\u001b[1;33m\u001b[0m\u001b[1;33m\u001b[0m\u001b[0m\n\u001b[1;32m---> 14\u001b[1;33m     \u001b[0mdata\u001b[0m\u001b[1;33m.\u001b[0m\u001b[0mwrite_excel\u001b[0m\u001b[1;33m(\u001b[0m\u001b[0moutput_file\u001b[0m\u001b[1;33m)\u001b[0m\u001b[1;33m\u001b[0m\u001b[1;33m\u001b[0m\u001b[0m\n\u001b[0m\u001b[0;32m     15\u001b[0m \u001b[1;33m\u001b[0m\u001b[0m\n\u001b[0;32m     16\u001b[0m \u001b[0mfiles\u001b[0m\u001b[1;33m.\u001b[0m\u001b[0mdownload\u001b[0m\u001b[1;33m(\u001b[0m\u001b[0moutput_file\u001b[0m\u001b[1;33m)\u001b[0m\u001b[1;33m\u001b[0m\u001b[1;33m\u001b[0m\u001b[0m\n",
      "\u001b[1;31mNameError\u001b[0m: name 'data' is not defined"
     ]
    }
   ],
   "source": [
    "# @title Data export\n",
    "format = \"Excel\"  # @param [\"TSV\", \"Excel\"]\n",
    "filename = \"output\"  # @param {type:\"string\"}\n",
    "\n",
    "export_dir = \"export/\"\n",
    "\n",
    "output_file = \"\" + export_dir + filename\n",
    "\n",
    "if format == \"TSV\":\n",
    "    output_file += \".tsv\"\n",
    "    data.write_csv(output_file, separator=\"\\t\")\n",
    "elif format == \"Excel\":\n",
    "    output_file += \".xlsx\"\n",
    "    data.write_excel(output_file)\n",
    "\n",
    "files.download(output_file)"
   ]
  },
  {
   "cell_type": "markdown",
   "metadata": {
    "id": "cprBfFjyC3qS"
   },
   "source": [
    "# 📊 Plotting\n",
    "\n",
    "This section allows you to plot your data onto a graph.\n"
   ]
  },
  {
   "cell_type": "code",
   "execution_count": null,
   "metadata": {
    "cellView": "form",
    "id": "P0kslJN0C7A9"
   },
   "outputs": [],
   "source": [
    "# @title Bar plot\n",
    "\n",
    "template = \"plotly_white\"\n",
    "yaxis_var = \"length\" # @param [\"length\", \"n_contributors\", \"n_revisions\", \"n_extlinks\", \"n_langlinks\", \"n_links\", \"n_linkshere\", \"n_categories\", \"pageviews_365d\", \"first_revision\"] {allow-input: true}\n",
    "yaxis_type = \"Auto\" # @param [\"Auto\", \"linear\", \"log\", \"date\"] {allow-input: true}\n",
    "if yaxis_type == \"Auto\":\n",
    "  yaxis_type = \"-\"\n",
    "\n",
    "title = \"Auto\" # @param [\"Auto\"] {allow-input: true}\n",
    "if title == \"Auto\":\n",
    "  title = f\"{selection_method.title()}: {selection}\"\n",
    "xaxis_title = \"Auto\" # @param [\"Auto\"] {allow-input: true}\n",
    "if xaxis_title == \"Auto\":\n",
    "  xaxis_title = \"Page\"\n",
    "yaxis_title = \"Auto\" # @param [\"Auto\"] {allow-input: true}\n",
    "if yaxis_title == \"Auto\":\n",
    "  yaxis_title = yaxis_var\n",
    "\n",
    "\n",
    "# Bar graph: article size vs language edition\n",
    "# Different versions of x axis labels\n",
    "plt = px.bar(\n",
    "    data.sort(yaxis_var, descending=True).to_pandas(),\n",
    "    x=\"selection_case\",\n",
    "    y=yaxis_var,\n",
    "    template=template,\n",
    "    color_discrete_sequence=px.colors.qualitative.Set2\n",
    ")\n",
    "\n",
    "plt.update_layout(\n",
    "    title=title,\n",
    "    xaxis_title=xaxis_title,\n",
    "    yaxis_title=yaxis_title,\n",
    "    # Rotate x-axis labels 45 degrees\n",
    "    xaxis_tickangle=-45,\n",
    "    yaxis_type=yaxis_type,\n",
    ")\n",
    "\n",
    "plt.show()"
   ]
  },
  {
   "cell_type": "code",
   "execution_count": null,
   "metadata": {
    "cellView": "form",
    "id": "9f8jT4ObBrJx"
   },
   "outputs": [
    {
     "ename": "NameError",
     "evalue": "name 'selection_method' is not defined",
     "output_type": "error",
     "traceback": [
      "\u001b[1;31m---------------------------------------------------------------------------\u001b[0m",
      "\u001b[1;31mNameError\u001b[0m                                 Traceback (most recent call last)",
      "\u001b[1;32m<ipython-input-5-208167c1336c>\u001b[0m in \u001b[0;36m<module>\u001b[1;34m\u001b[0m\n\u001b[0;32m      7\u001b[0m \u001b[0mtitle\u001b[0m \u001b[1;33m=\u001b[0m \u001b[1;34m\"Auto\"\u001b[0m  \u001b[1;31m# @param [\"Auto\"] {allow-input: true}\u001b[0m\u001b[1;33m\u001b[0m\u001b[1;33m\u001b[0m\u001b[0m\n\u001b[0;32m      8\u001b[0m \u001b[1;32mif\u001b[0m \u001b[0mtitle\u001b[0m \u001b[1;33m==\u001b[0m \u001b[1;34m\"Auto\"\u001b[0m\u001b[1;33m:\u001b[0m\u001b[1;33m\u001b[0m\u001b[1;33m\u001b[0m\u001b[0m\n\u001b[1;32m----> 9\u001b[1;33m     \u001b[0mtitle\u001b[0m \u001b[1;33m=\u001b[0m \u001b[1;34mf\"{selection_method.title()}: {selection}\"\u001b[0m\u001b[1;33m\u001b[0m\u001b[1;33m\u001b[0m\u001b[0m\n\u001b[0m\u001b[0;32m     10\u001b[0m \u001b[0mxaxis_title\u001b[0m \u001b[1;33m=\u001b[0m \u001b[1;34m\"Auto\"\u001b[0m  \u001b[1;31m# @param [\"Auto\"] {allow-input: true}\u001b[0m\u001b[1;33m\u001b[0m\u001b[1;33m\u001b[0m\u001b[0m\n\u001b[0;32m     11\u001b[0m \u001b[1;32mif\u001b[0m \u001b[0mxaxis_title\u001b[0m \u001b[1;33m==\u001b[0m \u001b[1;34m\"Auto\"\u001b[0m\u001b[1;33m:\u001b[0m\u001b[1;33m\u001b[0m\u001b[1;33m\u001b[0m\u001b[0m\n",
      "\u001b[1;31mNameError\u001b[0m: name 'selection_method' is not defined"
     ]
    }
   ],
   "source": [
    "# @title Regression plot\n",
    "\n",
    "template = \"plotly_white\"\n",
    "xaxis_var = \"length\"  # @param [\"length\", \"n_contributors\", \"n_revisions\", \"n_extlinks\", \"n_langlinks\", \"n_links\", \"n_linkshere\", \"n_categories\", \"pageviews_365d\", \"first_revision\"] {allow-input: true}\n",
    "yaxis_var = \"n_links\"  # @param [\"length\", \"n_contributors\", \"n_revisions\", \"n_extlinks\", \"n_langlinks\", \"n_links\", \"n_linkshere\", \"n_categories\", \"pageviews_365d\", \"first_revision\"] {allow-input: true}\n",
    "\n",
    "title = \"Auto\"  # @param [\"Auto\"] {allow-input: true}\n",
    "if title == \"Auto\":\n",
    "    title = f\"{selection_method.title()}: {selection}\"\n",
    "xaxis_title = \"Auto\"  # @param [\"Auto\"] {allow-input: true}\n",
    "if xaxis_title == \"Auto\":\n",
    "    xaxis_title = xaxis_var\n",
    "yaxis_title = \"Auto\"  # @param [\"Auto\"] {allow-input: true}\n",
    "if yaxis_title == \"Auto\":\n",
    "    yaxis_title = yaxis_var\n",
    "\n",
    "\n",
    "# Bar graph: article size vs language edition\n",
    "# Different versions of x axis labels\n",
    "plt = px.scatter(\n",
    "    data.to_pandas(),\n",
    "    x=xaxis_var,\n",
    "    y=yaxis_var,\n",
    "    template=template,\n",
    "    color_discrete_sequence=px.colors.qualitative.Set2,\n",
    "    # Add regression line\n",
    "    trendline=\"ols\",\n",
    "    hover_name=\"selection_case\",\n",
    ")\n",
    "\n",
    "plt.update_layout(\n",
    "    title=title,\n",
    "    xaxis_title=xaxis_title,\n",
    "    yaxis_title=yaxis_title,\n",
    ")\n",
    "\n",
    "plt.show()\n"
   ]
  },
  {
   "cell_type": "markdown",
   "metadata": {
    "id": "dxT2EdHmj-Fj"
   },
   "source": [
    "## Plot Export\n",
    "\n",
    "You may export your generated plot as a static image or interactive HTML.\n",
    "\n",
    "### Formats\n",
    "- __HTML__: Interactive plot as shown above. May be viewed using a browser.\n",
    "- __SVG__: Scalable vector graphic. Static image that may be resized without becoming blurry.\n",
    "- __PNG__: Static raster image. May be pixelated or blurry due to Google Colab rendering.\n",
    "\n",
    "\n",
    "### Options\n",
    "- `format`: Format to produce\n",
    "- `filename`: Desired filename without extension  \n",
    "\n",
    "__Non-interactive formats only (SVG/PNG)__  \n",
    "- `width` and `height`: Dimensions in pixels\n",
    "- `scale`: Scale factor to use when exporting the figure. A scale factor larger than 1.0 will increase the image resolution with respect to the figure’s layout pixel dimensions."
   ]
  },
  {
   "cell_type": "code",
   "execution_count": null,
   "metadata": {
    "cellView": "form",
    "id": "vRWo-6LAOzeM"
   },
   "outputs": [],
   "source": [
    "# @title Options\n",
    "format = \"HTML\"  # @param [\"HTML\", \"SVG\", \"PNG\"]\n",
    "filename = \"plot\"  # @param {type:\"string\"}\n",
    "width = 1200  # @param {type:\"number\"}\n",
    "height = 600  # @param {type:\"number\"}\n",
    "scale = 1  # @param {type:\"number\"}\n",
    "\n",
    "plots_dir = \"plots/\"\n",
    "\n",
    "output_file = \"\" + plots_dir + filename\n",
    "\n",
    "if format == \"HTML\":\n",
    "    output_file += \".html\"\n",
    "    plt.write_html(output_file)\n",
    "elif format in [\"PNG\", \"SVG\"]:\n",
    "    output_file += \".\" + format.lower()\n",
    "    plt.write_image(\n",
    "        output_file,\n",
    "        scale=scale,\n",
    "        width=width,\n",
    "        height=height,\n",
    "    )\n",
    "\n",
    "files.download(output_file)"
   ]
  }
 ],
 "metadata": {
  "colab": {
   "authorship_tag": "ABX9TyN5rmxozf1BrpFyqjGHwuGr",
   "include_colab_link": true,
   "provenance": [],
   "toc_visible": true
  },
  "kernelspec": {
   "display_name": "Python 3",
   "language": "python",
   "name": "python3"
  },
  "language_info": {
   "codemirror_mode": {
    "name": "ipython",
    "version": 3
   },
   "file_extension": ".py",
   "mimetype": "text/x-python",
   "name": "python",
   "nbconvert_exporter": "python",
   "pygments_lexer": "ipython3",
   "version": "3.8.0"
  }
 },
 "nbformat": 4,
 "nbformat_minor": 1
}
